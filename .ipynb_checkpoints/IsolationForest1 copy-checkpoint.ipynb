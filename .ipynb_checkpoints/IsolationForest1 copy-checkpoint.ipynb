{
 "cells": [
  {
   "cell_type": "code",
   "execution_count": 147,
   "id": "7d684159",
   "metadata": {},
   "outputs": [],
   "source": [
    "import pandas as pd\n",
    "from sklearn.preprocessing import LabelEncoder\n",
    "from sklearn.ensemble import IsolationForest\n",
    "from sklearn.preprocessing import StandardScaler\n",
    "import numpy as np\n",
    "df = pd.read_csv('data.csv', dtype=str, sep=\";\")\n"
   ]
  },
  {
   "cell_type": "code",
   "execution_count": 148,
   "id": "06b5448a",
   "metadata": {},
   "outputs": [
    {
     "data": {
      "text/plain": [
       "(910, 25)"
      ]
     },
     "execution_count": 148,
     "metadata": {},
     "output_type": "execute_result"
    }
   ],
   "source": [
    "df.shape"
   ]
  },
  {
   "cell_type": "code",
   "execution_count": null,
   "id": "d2d81a0f",
   "metadata": {},
   "outputs": [
    {
     "name": "stdout",
     "output_type": "stream",
     "text": [
      "Contamination: 0.01 — Anomalies: 4 — Mean anomaly score: -0.0926\n",
      "Contamination: 0.02 — Anomalies: 4 — Mean anomaly score: -0.0926\n",
      "Contamination: 0.05 — Anomalies: 4 — Mean anomaly score: -0.0926\n",
      "Contamination: 0.1 — Anomalies: 4 — Mean anomaly score: -0.0926\n",
      "Contamination: 0.15 — Anomalies: 104 — Mean anomaly score: -0.0148\n",
      "Contamination: 0.25 — Anomalies: 205 — Mean anomaly score: -0.0129\n",
      "Contamination: 0.35 — Anomalies: 305 — Mean anomaly score: -0.0160\n",
      "\n",
      "Selected best contamination: 0.01 with mean anomaly score -0.0926\n"
     ]
    }
   ],
   "source": [
    "\n",
    "\n",
    "# Fill all NaN values with the unique placeholder\n",
    "df.fillna(999999999, inplace=True)\n",
    "\n",
    "# All occurrences of -1 and null is replaced with the unique placeholder\n",
    "df.replace('-1', '999999999', inplace=True) # Assuming '-1' is read as a string\n",
    "\n",
    "# Convert values to appropriate types where possible\n",
    "def convert_float_int_or_numeric_placeholder(val):\n",
    "    try:\n",
    "        # convert to float first, then check if it's an integer\n",
    "        f_val = float(val)\n",
    "        if f_val.is_integer():\n",
    "            return int(f_val)\n",
    "        return f_val\n",
    "    except ValueError:\n",
    "        if str(val) == '999999999': # Explicitly handle our placeholder string\n",
    "             return float(val) # Convert it to a numeric float\n",
    "        return str(val) # Keep as string for LabelEncoder later\n",
    "\n",
    "df = df.applymap(convert_float_int_or_numeric_placeholder) # Use applymap for element-wise operation\n",
    "\n",
    "# The contamination parameter represents the expected proportion of anomalies (outliers) in the dataset. \n",
    "# A range of contamination levels is tested to \n",
    "# compare the number of detected anomalies and their mean anomaly scores — where a lower score indicates a stronger anomaly.\n",
    "contamination_values = [0.01, 0.02, 0.05, 0.10, 0.15, 0.25, 0.35]   \n",
    "\n",
    "results = {}\n",
    "\n",
    "# Drop non-useful columns\n",
    "df_clean = df.drop(columns=['Time', 'ip_source', 'AMF_UE_NGAP_ID'], errors='ignore')\n",
    "\n",
    "# Identify numerical and categorical columns after initial transformations\n",
    "numerical_cols = df_clean.select_dtypes(include=np.number).columns\n",
    "categorical_cols = df_clean.select_dtypes(include='object').columns\n",
    "\n",
    "# Encode non-numeric features (categorical columns)\n",
    "for col in categorical_cols:\n",
    "    df_clean[col] = LabelEncoder().fit_transform(df_clean[col].astype(str))\n",
    "\n",
    "\n",
    "# Initialize the StandardScaler\n",
    "scaler = StandardScaler()\n",
    "\n",
    "\n",
    "df_scaled = scaler.fit_transform(df_clean)\n",
    "\n",
    "# Convert the scaled array back to a DataFrame, preserving column names\n",
    "df_scaled = pd.DataFrame(df_scaled, columns=df_clean.columns, index=df_clean.index)\n",
    "\n",
    "\n",
    "# Evaluate models on different contamination values using the SCALED data\n",
    "for c in contamination_values:\n",
    "    model = IsolationForest(n_estimators=100, contamination=c, random_state=42)\n",
    "    # Fit the model on the SCALED DataFrame\n",
    "    model.fit(df_scaled)\n",
    "    \n",
    "    preds = model.predict(df_scaled)\n",
    "    scores = model.decision_function(df_scaled)\n",
    "    \n",
    "    # Filter anomaly scores for detected anomalies only\n",
    "    anomaly_scores = scores[preds == -1]\n",
    "    \n",
    "    # Calculate mean anomaly score (lower = more anomalous)\n",
    "    mean_score = np.mean(anomaly_scores) if len(anomaly_scores) > 0 else np.inf\n",
    "    \n",
    "    results[c] = {\n",
    "        'num_anomalies': (preds == -1).sum(),\n",
    "        'mean_anomaly_score': mean_score\n",
    "    }\n",
    "    \n",
    "    print(f\"Contamination: {c} — Anomalies: {results[c]['num_anomalies']} — Mean anomaly score: {mean_score:.4f}\")\n",
    "\n",
    "# Select contamination with lowest mean anomaly score (strongest anomalies)\n",
    "best_c = min(results, key=lambda x: results[x]['mean_anomaly_score'])\n",
    "print(f\"\\nSelected best contamination: {best_c} with mean anomaly score {results[best_c]['mean_anomaly_score']:.4f}\")\n",
    "\n",
    "# Train model with best contamination using SCALED data\n",
    "best_model = IsolationForest(n_estimators=100, contamination=best_c, random_state=42)\n",
    "best_model.fit(df_scaled)\n",
    "\n",
    "# Predict anomalies and scores on the SCALED data\n",
    "df['anomaly'] = best_model.predict(df_scaled)\n",
    "df['anomaly_score'] = best_model.decision_function(df_scaled)\n",
    "\n",
    "df[df['anomaly'] == -1].head()\n",
    "# 4. Set threshold at bottom 1% of anomaly scores (adjust quantile if needed)\n",
    "threshold = df['anomaly_score'].quantile(0.01)"
   ]
  },
  {
   "cell_type": "code",
   "execution_count": 150,
   "id": "b1648292",
   "metadata": {},
   "outputs": [
    {
     "name": "stdout",
     "output_type": "stream",
     "text": [
      "     anomaly_score severity\n",
      "900      -0.054991      Low\n",
      "904      -0.102106     High\n",
      "905      -0.102106     High\n",
      "909      -0.004603      Low\n"
     ]
    }
   ],
   "source": [
    "# Only look at rows marked as anomalies\n",
    "anomalies = df[df['anomaly'] == -1].copy()\n",
    "\n",
    "# Define thresholds (you can tune these)\n",
    "low_thresh = anomalies['anomaly_score'].quantile(0.66)\n",
    "high_thresh = anomalies['anomaly_score'].quantile(0.33)\n",
    "\n",
    "# Apply severity levels\n",
    "def severity_label(score):\n",
    "    if score <= high_thresh:\n",
    "        return 'High'\n",
    "    elif score <= low_thresh:\n",
    "        return 'Medium'\n",
    "    else:\n",
    "        return 'Low'\n",
    "\n",
    "anomalies['severity'] = anomalies['anomaly_score'].apply(severity_label)\n",
    "\n",
    "# View categorized anomalies\n",
    "print(anomalies[['anomaly_score', 'severity']])\n"
   ]
  },
  {
   "cell_type": "code",
   "execution_count": 151,
   "id": "b5ccb1ff",
   "metadata": {},
   "outputs": [
    {
     "data": {
      "image/png": "[encoded data removed]",
      "text/plain": [
       "<Figure size 1000x600 with 1 Axes>"
      ]
     },
     "metadata": {},
     "output_type": "display_data"
    }
   ],
   "source": [
    "import matplotlib.pyplot as plt\n",
    "import seaborn as sns\n",
    "\n",
    "# Assuming you already have anomalies with 'severity' column as before\n",
    "plt.figure(figsize=(10, 6))\n",
    "\n",
    "# Scatter plot: index vs anomaly_score, colored by severity\n",
    "sns.scatterplot(x=anomalies.index, y=anomalies['anomaly_score'], hue=anomalies['severity'],\n",
    "                palette={'High':'red', 'Medium':'orange', 'Low':'yellow'}, s=100)\n",
    "\n",
    "plt.axhline(y=0, color='gray', linestyle='--', label='Decision boundary (0)')\n",
    "plt.title('Replay attack Anomaly Scores by Severity')\n",
    "plt.xlabel('Row index')\n",
    "plt.ylabel('Anomaly Score (lower = more anomalous)')\n",
    "plt.legend()\n",
    "plt.show()\n"
   ]
  },
  {
   "cell_type": "code",
   "execution_count": 154,
   "id": "80874c78",
   "metadata": {},
   "outputs": [
    {
     "name": "stdout",
     "output_type": "stream",
     "text": [
      "\n",
      "High severity anomalies source\n",
      "     ip_source  AMF_UE_NGAP_ID severity\n",
      "904  20.0.2.10    549755813888     High\n",
      "905  20.0.2.10    549755813888     High\n"
     ]
    }
   ],
   "source": [
    "# Filter high severity anomalies\n",
    "high_sev_anomalies = anomalies[anomalies['severity'] == 'High']\n",
    "\n",
    "print(\"\\nHigh severity anomalies source\")\n",
    "print(high_sev_anomalies[['ip_source', 'AMF_UE_NGAP_ID', 'severity']])\n"
   ]
  },
  {
   "cell_type": "code",
   "execution_count": null,
   "id": "45f4874d",
   "metadata": {},
   "outputs": [],
   "source": []
  },
  {
   "cell_type": "code",
   "execution_count": null,
   "id": "f81dfc1b",
   "metadata": {},
   "outputs": [],
   "source": []
  }
 ],
 "metadata": {
  "kernelspec": {
   "display_name": "Python 3",
   "language": "python",
   "name": "python3"
  },
  "language_info": {
   "codemirror_mode": {
    "name": "ipython",
    "version": 3
   },
   "file_extension": ".py",
   "mimetype": "text/x-python",
   "name": "python",
   "nbconvert_exporter": "python",
   "pygments_lexer": "ipython3",
   "version": "3.13.3"
  }
 },
 "nbformat": 4,
 "nbformat_minor": 5
}
