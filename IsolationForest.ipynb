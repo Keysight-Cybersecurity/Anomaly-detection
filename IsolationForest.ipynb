{
 "cells": [
  {
   "cell_type": "code",
   "execution_count": null,
   "id": "7d684159",
   "metadata": {},
   "outputs": [],
   "source": [
    "import pandas as pd\n",
    "df = pd.read_csv('data.csv', dtype=str)"
   ]
  },
  {
   "cell_type": "code",
   "execution_count": null,
   "id": "06b5448a",
   "metadata": {},
   "outputs": [],
   "source": [
    "df.fillna(-1, inplace=True)\n",
    "\n",
    "def convert_float_int(val):\n",
    "    if isinstance(val, float) and val.is_integer():\n",
    "        return int(val)\n",
    "    else:\n",
    "        return val\n",
    "\n",
    "df = df.map(convert_float_int)"
   ]
  },
  {
   "cell_type": "code",
   "execution_count": null,
   "id": "60b0580d",
   "metadata": {},
   "outputs": [],
   "source": [
    "df"
   ]
  },
  {
   "cell_type": "code",
   "execution_count": null,
   "id": "56ac8c0c",
   "metadata": {},
   "outputs": [],
   "source": [
    "from NAS.NASService import NASService\n",
    "\n",
    "service = NASService()\n",
    "\n",
    "# df.loc[2, 'Type'] = 89\n",
    "# df.loc[3, 'Type'] = 86\n",
    "# df.loc[4, 'Type'] = 89\n",
    "# df.loc[5, 'Type'] = 86\n",
    "\n",
    "\n",
    "df['valid_Type'] = df.apply(service.isValidType, axis=1)\n",
    "df['valid_messageFlow'] = df.apply(service.hasValidMessageFlow, axis=1)\n",
    "df['valid_min_auth_failure_rate'] = df.apply(service.hasValidMinAuthFailureRate, axis=1, args=(df,))\n",
    "\n",
    "df['valid_SecHdr'] = df.apply(service.isValidSecHdr, axis=1)\n",
    "df['valid_EPD'] = df.apply(service.isValidEPD, axis=1)\n",
    "df['valid_spare'] = df.apply(service.isValidSpare, axis=1)\n",
    "df['valid_SecHdr_2'] = df.apply(service.isValidSecHdr2, axis=1)\n",
    "df['valid_EPD_2'] = df.apply(service.isValidEPD2, axis=1)\n",
    "df['valid_spare_2'] = df.apply(service.isValidSpare2, axis=1)\n",
    "df['valid_spare_3'] = df.apply(service.isValidSpare3, axis=1)\n",
    "\n",
    "df['valid_secrFlow'] = df.apply(service.hasValidSecrFlow, axis=1)\n",
    "df['valid_Seqn'] = df.apply(service.isValidSeqn, axis=1)\n",
    "\n",
    "df['valid_5GSID'] = df.apply(service.isValid5GSID, axis=1)\n",
    "df['valid_PayloadContainer'] = df.apply(service.isValidPayloadContainer, axis=1)\n",
    "\n",
    "df['valid_NAS_KSI'] = df.apply(service.isValidNASKSI, axis=1)\n",
    "df['valid_5GSRegType'] = df.apply(service.isValid5GSRegType, axis=1)\n",
    "df['valid_PayloadContainerType'] = df.apply(service.isValidPayloadContainerType, axis=1)\n",
    "df['valid_ServiceType'] = df.apply(service.isValidServiceType, axis=1)\n",
    "df['valid_DeregistrationType'] = df.apply(service.isValidDeregistrationType, axis=1)\n",
    "\n",
    "# df['valid_5GMMCause'] = df.apply(service.isValidCause, axis=1)\n",
    "# df['valid_EAPmsg'] = df.apply(service.isValidEAP, axis=1)\n",
    "# df['valid_NSSAI'] = df.apply(service.isValidNSSAI, axis=1)\n",
    "# df['valid_PRTI'] = df.apply(service.isValidPRTI, axis=1)\n",
    "# df['valid_RequestParameters'] = df.apply(service.isValidRequestParameters, axis=1)\n",
    "\n",
    "# df['valid_ABBA'] = df.apply(service.isValidABBA, axis=1)\n",
    "# df['valid_UESecCap'] = df.apply(service.isValidUESecCap, axis=1)\n",
    "# df['valid_NASSecAlgo'] = df.apply(service.isValidNASSecAlgo, axis=1)\n",
    "# df['valid_AccessType'] = df.apply(service.isValidAccessType, axis=1)\n",
    "# df['valid_ResponseParameters'] = df.apply(service.isValidResponseParameters, axis=1)\n",
    "\n",
    "\n",
    "df['label'] = df.apply(service.label, axis=1)\n"
   ]
  },
  {
   "cell_type": "code",
   "execution_count": null,
   "id": "15200874",
   "metadata": {},
   "outputs": [],
   "source": [
    "df"
   ]
  }
 ],
 "metadata": {
  "kernelspec": {
   "display_name": "Python 3.13 (Jupyter)",
   "language": "python",
   "name": "py313"
  },
  "language_info": {
   "codemirror_mode": {
    "name": "ipython",
    "version": 3
   },
   "file_extension": ".py",
   "mimetype": "text/x-python",
   "name": "python",
   "nbconvert_exporter": "python",
   "pygments_lexer": "ipython3",
   "version": "3.13.4"
  }
 },
 "nbformat": 4,
 "nbformat_minor": 5
}
